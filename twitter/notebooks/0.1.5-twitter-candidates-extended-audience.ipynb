{
 "cells": [
  {
   "cell_type": "code",
   "execution_count": 1,
   "metadata": {
    "collapsed": false
   },
   "outputs": [
    {
     "name": "stdout",
     "output_type": "stream",
     "text": [
      "Switching to API Credentials #14\n"
     ]
    }
   ],
   "source": [
    "import networkx as nx\n",
    "from twitter_api import API_HANDLER as TW\n",
    "import json"
   ]
  },
  {
   "cell_type": "code",
   "execution_count": 8,
   "metadata": {
    "collapsed": true
   },
   "outputs": [],
   "source": [
    "cuentas = [\n",
    "    'HectorBaldassi',\n",
    "    'NestorMoccia',\n",
    "    'PabloCarroOk',\n",
    "    'MartinLlaryora',\n",
    "    'LilianaOlivero',\n",
    "    'Luciechevarria',\n",
    "    'ORTIZPELLEGRINI',\n",
    "    'AGarciaElorrio',\n",
    "    'rossiucr',\n",
    "    'beltranbeto1',\n",
    "    'SellaEnrique',\n",
    "]"
   ]
  },
  {
   "cell_type": "code",
   "execution_count": 2,
   "metadata": {
    "collapsed": true
   },
   "outputs": [],
   "source": [
    "# loading from file"
   ]
  },
  {
   "cell_type": "code",
   "execution_count": 3,
   "metadata": {
    "collapsed": true
   },
   "outputs": [],
   "source": [
    "from datetime import date\n",
    "from os.path import join"
   ]
  },
  {
   "cell_type": "code",
   "execution_count": 4,
   "metadata": {
    "collapsed": true
   },
   "outputs": [],
   "source": [
    "DATA_PATH = '../data/'"
   ]
  },
  {
   "cell_type": "code",
   "execution_count": null,
   "metadata": {
    "collapsed": true
   },
   "outputs": [],
   "source": [
    "graphpath = join(DATA_PATH, 'red1_%s.graphml' % str(date.today()))"
   ]
  },
  {
   "cell_type": "code",
   "execution_count": 5,
   "metadata": {
    "collapsed": true
   },
   "outputs": [],
   "source": [
    "g = nx.read_graphml('red1.graphml')"
   ]
  },
  {
   "cell_type": "code",
   "execution_count": 4,
   "metadata": {
    "collapsed": true
   },
   "outputs": [],
   "source": [
    "# g2 = g.copy()\n",
    "# failed = {}"
   ]
  },
  {
   "cell_type": "code",
   "execution_count": 2,
   "metadata": {
    "collapsed": true
   },
   "outputs": [],
   "source": [
    "g2 = nx.read_graphml('red2.graphml')\n",
    "failed = json.load(open('failed.json'))"
   ]
  },
  {
   "cell_type": "code",
   "execution_count": 3,
   "metadata": {
    "collapsed": false
   },
   "outputs": [
    {
     "data": {
      "text/plain": [
       "(1610681, 2246468)"
      ]
     },
     "execution_count": 3,
     "metadata": {},
     "output_type": "execute_result"
    }
   ],
   "source": [
    "g2.number_of_nodes(), g2.number_of_edges()"
   ]
  },
  {
   "cell_type": "code",
   "execution_count": 6,
   "metadata": {
    "collapsed": false
   },
   "outputs": [
    {
     "name": "stdout",
     "output_type": "stream",
     "text": [
      "Switching to API Credentials #5\n",
      "Switching to API Credentials #6\n",
      "Switching to API Credentials #7\n",
      "Switching to API Credentials #8\n",
      "Switching to API Credentials #0\n",
      "Switching to API Credentials #1\n",
      "Switching to API Credentials #2\n",
      "Switching to API Credentials #3\n",
      "Rate limit reached\n",
      "Rate limit reached for all connections. Waiting 15 mins...\n",
      "Switching to API Credentials #4\n",
      "Switching to API Credentials #5\n",
      "Switching to API Credentials #6\n",
      "Switching to API Credentials #7\n",
      "Switching to API Credentials #8\n",
      "Switching to API Credentials #0\n",
      "Switching to API Credentials #1\n",
      "Switching to API Credentials #2\n",
      "Rate limit reached\n",
      "Rate limit reached for all connections. Waiting 15 mins...\n",
      "Switching to API Credentials #3\n",
      "Switching to API Credentials #4\n",
      "Switching to API Credentials #5\n",
      "Switching to API Credentials #6\n",
      "Switching to API Credentials #7\n",
      "Switching to API Credentials #8\n",
      "Switching to API Credentials #0\n",
      "Switching to API Credentials #1\n",
      "Rate limit reached\n",
      "Rate limit reached for all connections. Waiting 15 mins...\n",
      "Switching to API Credentials #2\n",
      "Switching to API Credentials #3\n",
      "Switching to API Credentials #4\n",
      "Switching to API Credentials #5\n",
      "Switching to API Credentials #6\n",
      "Switching to API Credentials #7\n",
      "Switching to API Credentials #8\n",
      "Switching to API Credentials #0\n",
      "Rate limit reached\n",
      "Rate limit reached for all connections. Waiting 15 mins...\n"
     ]
    },
    {
     "ename": "KeyboardInterrupt",
     "evalue": "",
     "output_type": "error",
     "traceback": [
      "\u001b[0;31m---------------------------------------------------------------------------\u001b[0m",
      "\u001b[0;31mKeyboardInterrupt\u001b[0m                         Traceback (most recent call last)",
      "\u001b[0;32m<ipython-input-6-047f260d4f56>\u001b[0m in \u001b[0;36m<module>\u001b[0;34m()\u001b[0m\n\u001b[1;32m      3\u001b[0m         \u001b[0;32mcontinue\u001b[0m \u001b[0;31m# ya lo vimos\u001b[0m\u001b[0;34m\u001b[0m\u001b[0m\n\u001b[1;32m      4\u001b[0m     \u001b[0;32mtry\u001b[0m\u001b[0;34m:\u001b[0m\u001b[0;34m\u001b[0m\u001b[0m\n\u001b[0;32m----> 5\u001b[0;31m         \u001b[0mfids\u001b[0m \u001b[0;34m=\u001b[0m \u001b[0mTW\u001b[0m\u001b[0;34m.\u001b[0m\u001b[0mtraer_seguidores\u001b[0m\u001b[0;34m(\u001b[0m\u001b[0muser_id\u001b[0m\u001b[0;34m=\u001b[0m\u001b[0muid\u001b[0m\u001b[0;34m)\u001b[0m\u001b[0;34m\u001b[0m\u001b[0m\n\u001b[0m\u001b[1;32m      6\u001b[0m     \u001b[0;32mexcept\u001b[0m \u001b[0mException\u001b[0m \u001b[0;32mas\u001b[0m \u001b[0me\u001b[0m\u001b[0;34m:\u001b[0m\u001b[0;34m\u001b[0m\u001b[0m\n\u001b[1;32m      7\u001b[0m         \u001b[0mfailed\u001b[0m\u001b[0;34m[\u001b[0m\u001b[0muid\u001b[0m\u001b[0;34m]\u001b[0m \u001b[0;34m=\u001b[0m \u001b[0me\u001b[0m\u001b[0;34m.\u001b[0m\u001b[0mreason\u001b[0m\u001b[0;34m\u001b[0m\u001b[0m\n",
      "\u001b[0;32m/home/pablo/Proyectos/paso2017sna/twitter/twitter_api.pyc\u001b[0m in \u001b[0;36mtraer_seguidores\u001b[0;34m(self, **kwargs)\u001b[0m\n\u001b[1;32m     65\u001b[0m                             \u001b[0mtime\u001b[0m\u001b[0;34m.\u001b[0m\u001b[0msleep\u001b[0m\u001b[0;34m(\u001b[0m\u001b[0;36m60\u001b[0m \u001b[0;34m*\u001b[0m \u001b[0mnmins\u001b[0m\u001b[0;34m)\u001b[0m\u001b[0;34m\u001b[0m\u001b[0m\n\u001b[1;32m     66\u001b[0m                             \u001b[0mconns_tried\u001b[0m \u001b[0;34m=\u001b[0m \u001b[0;36m0\u001b[0m \u001b[0;31m# restart count\u001b[0m\u001b[0;34m\u001b[0m\u001b[0m\n\u001b[0;32m---> 67\u001b[0;31m                         \u001b[0;32melse\u001b[0m\u001b[0;34m:\u001b[0m\u001b[0;34m\u001b[0m\u001b[0m\n\u001b[0m\u001b[1;32m     68\u001b[0m                             \u001b[0mself\u001b[0m\u001b[0;34m.\u001b[0m\u001b[0mget_fresh_connection\u001b[0m\u001b[0;34m(\u001b[0m\u001b[0;34m)\u001b[0m\u001b[0;34m\u001b[0m\u001b[0m\n\u001b[1;32m     69\u001b[0m \u001b[0;34m\u001b[0m\u001b[0m\n",
      "\u001b[0;31mKeyboardInterrupt\u001b[0m: "
     ]
    }
   ],
   "source": [
    "for i, uid in enumerate(g.nodes()): # red de primer grado\n",
    "    if g2.in_degree(uid):\n",
    "        continue # ya lo vimos\n",
    "    try:\n",
    "        fids = TW.traer_seguidores(user_id=uid)\n",
    "    except Exception as e:\n",
    "        failed[uid] = e.reason\n",
    "        continue\n",
    "                        \n",
    "    #  Graphml guarda las etiquetas como str\n",
    "    edges = [(str(fid), str(uid)) for fid in fids]\n",
    "    g2.add_edges_from(edges)\n",
    "        \n",
    "    if i % 100 == 0:\n",
    "        print \"%.1f %%\" % (i * 100.0 / g.number_of_nodes())\n",
    "        print (g2.number_of_nodes(), g2.number_of_edges())"
   ]
  },
  {
   "cell_type": "code",
   "execution_count": 7,
   "metadata": {
    "collapsed": false
   },
   "outputs": [
    {
     "name": "stdout",
     "output_type": "stream",
     "text": [
      "Switching to API Credentials #1\n"
     ]
    },
    {
     "data": {
      "text/plain": [
       "(1610681, 2246468)"
      ]
     },
     "execution_count": 7,
     "metadata": {},
     "output_type": "execute_result"
    }
   ],
   "source": [
    "g2.number_of_nodes(), g2.number_of_edges()"
   ]
  },
  {
   "cell_type": "code",
   "execution_count": null,
   "metadata": {
    "collapsed": false
   },
   "outputs": [],
   "source": [
    "with open('failed.json', 'w') as f:\n",
    "    json.dump(failed, f)"
   ]
  },
  {
   "cell_type": "code",
   "execution_count": null,
   "metadata": {
    "collapsed": false
   },
   "outputs": [],
   "source": [
    "nx.write_graphml(g2, 'red2.graphml')"
   ]
  }
 ],
 "metadata": {
  "kernelspec": {
   "display_name": "Python 2",
   "language": "python",
   "name": "python2"
  },
  "language_info": {
   "codemirror_mode": {
    "name": "ipython",
    "version": 2
   },
   "file_extension": ".py",
   "mimetype": "text/x-python",
   "name": "python",
   "nbconvert_exporter": "python",
   "pygments_lexer": "ipython2",
   "version": "2.7.11+"
  }
 },
 "nbformat": 4,
 "nbformat_minor": 0
}
