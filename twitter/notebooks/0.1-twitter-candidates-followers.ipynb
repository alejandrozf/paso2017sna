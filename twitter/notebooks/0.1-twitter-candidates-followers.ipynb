{
 "cells": [
  {
   "cell_type": "code",
   "execution_count": 46,
   "metadata": {
    "collapsed": false
   },
   "outputs": [],
   "source": [
    "import networkx as nx\n",
    "from twitter_api import API_HANDLER as TW\n",
    "from localsettings import DATA_PATH \n",
    "import json\n",
    "\n",
    "from os.path import join\n",
    "\n",
    "DATA_PATH = join(DATA_PATH, './reporte_07_26')"
   ]
  },
  {
   "cell_type": "code",
   "execution_count": 39,
   "metadata": {
    "collapsed": true
   },
   "outputs": [],
   "source": [
    "cuentas = [\n",
    "    'HectorBaldassi',\n",
    "    'NestorMoccia',\n",
    "    'PabloCarroOk',\n",
    "    'MartinLlaryora',\n",
    "    'LilianaOlivero',\n",
    "    'Luciechevarria',\n",
    "    'ORTIZPELLEGRINI',\n",
    "    'AGarciaElorrio',\n",
    "    'rossiucr',\n",
    "    'beltranbeto1',\n",
    "    'SellaEnrique',\n",
    "]"
   ]
  },
  {
   "cell_type": "code",
   "execution_count": 40,
   "metadata": {
    "collapsed": true
   },
   "outputs": [],
   "source": [
    "g = nx.DiGraph()"
   ]
  },
  {
   "cell_type": "code",
   "execution_count": 41,
   "metadata": {
    "collapsed": false
   },
   "outputs": [
    {
     "name": "stdout",
     "output_type": "stream",
     "text": [
      "fetched 5000 followers so far.\n",
      "fetched 10000 followers so far.\n",
      "fetched 15000 followers so far.\n",
      "fetched 20000 followers so far.\n",
      "fetched 24745 followers so far.\n",
      "fetched 1350 followers so far.\n",
      "fetched 1298 followers so far.\n",
      "fetched 5000 followers so far.\n",
      "fetched 10000 followers so far.\n",
      "Switching to API Credentials #17\n",
      "Error trying to connect: Expected token_type to equal \"bearer\", but got None instead\n",
      "Switching to API Credentials #18\n",
      "fetched 15000 followers so far.\n",
      "fetched 20000 followers so far.\n",
      "fetched 25000 followers so far.\n",
      "fetched 30000 followers so far.\n",
      "fetched 35000 followers so far.\n",
      "fetched 35359 followers so far.\n",
      "fetched 4696 followers so far.\n",
      "fetched 2304 followers so far.\n",
      "fetched 251 followers so far.\n",
      "fetched 1818 followers so far.\n",
      "fetched 5000 followers so far.\n",
      "fetched 10000 followers so far.\n",
      "fetched 15000 followers so far.\n",
      "fetched 20000 followers so far.\n",
      "fetched 21930 followers so far.\n",
      "Switching to API Credentials #0\n",
      "fetched 707 followers so far.\n",
      "fetched 51 followers so far.\n"
     ]
    }
   ],
   "source": [
    "for name in cuentas:\n",
    "    u = TW.conn_.get_user(name)\n",
    "    fids = TW.traer_seguidores(screen_name=name)\n",
    "    g.add_edges_from([(fid, u.id) for fid in fids])"
   ]
  },
  {
   "cell_type": "code",
   "execution_count": 42,
   "metadata": {
    "collapsed": true
   },
   "outputs": [],
   "source": [
    "# saving to file"
   ]
  },
  {
   "cell_type": "code",
   "execution_count": 43,
   "metadata": {
    "collapsed": false
   },
   "outputs": [],
   "source": [
    "graphpath = join(DATA_PATH, 'red1.graphml')\n",
    "nx.write_graphml(g, graphpath)"
   ]
  },
  {
   "cell_type": "code",
   "execution_count": 44,
   "metadata": {
    "collapsed": false
   },
   "outputs": [
    {
     "data": {
      "text/plain": [
       "94509"
      ]
     },
     "execution_count": 44,
     "metadata": {},
     "output_type": "execute_result"
    }
   ],
   "source": [
    "g.number_of_edges()"
   ]
  },
  {
   "cell_type": "code",
   "execution_count": 45,
   "metadata": {
    "collapsed": false
   },
   "outputs": [
    {
     "data": {
      "text/plain": [
       "85689"
      ]
     },
     "execution_count": 45,
     "metadata": {},
     "output_type": "execute_result"
    }
   ],
   "source": [
    "g.number_of_nodes()"
   ]
  }
 ],
 "metadata": {
  "kernelspec": {
   "display_name": "Python 2",
   "language": "python",
   "name": "python2"
  },
  "language_info": {
   "codemirror_mode": {
    "name": "ipython",
    "version": 2
   },
   "file_extension": ".py",
   "mimetype": "text/x-python",
   "name": "python",
   "nbconvert_exporter": "python",
   "pygments_lexer": "ipython2",
   "version": "2.7.11+"
  }
 },
 "nbformat": 4,
 "nbformat_minor": 0
}
