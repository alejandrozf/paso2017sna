{
 "cells": [
  {
   "cell_type": "code",
   "execution_count": 31,
   "metadata": {
    "collapsed": false
   },
   "outputs": [
    {
     "name": "stdout",
     "output_type": "stream",
     "text": [
      "Switching to API Credentials #11\n"
     ]
    }
   ],
   "source": [
    "import networkx as nx\n",
    "from twitter_api import API_HANDLER as TW\n",
    "import json"
   ]
  },
  {
   "cell_type": "code",
   "execution_count": 25,
   "metadata": {
    "collapsed": true
   },
   "outputs": [],
   "source": [
    "from os.path import join\n",
    "\n",
    "DATA_PATH = '../data/reporte_07_26/'"
   ]
  },
  {
   "cell_type": "code",
   "execution_count": 26,
   "metadata": {
    "collapsed": true
   },
   "outputs": [],
   "source": [
    "cuentas = [\n",
    "    'HectorBaldassi',\n",
    "#     'NestorMoccia',\n",
    "#     'PabloCarroOk',\n",
    "    'MartinLlaryora',\n",
    "#     'LilianaOlivero',\n",
    "#     'Luciechevarria',\n",
    "#     'ORTIZPELLEGRINI',\n",
    "#     'AGarciaElorrio',\n",
    "#     'rossiucr',\n",
    "#     'beltranbeto1',\n",
    "#     'SellaEnrique',\n",
    "]"
   ]
  },
  {
   "cell_type": "code",
   "execution_count": 27,
   "metadata": {
    "collapsed": true
   },
   "outputs": [],
   "source": [
    "g = nx.DiGraph()"
   ]
  },
  {
   "cell_type": "code",
   "execution_count": 32,
   "metadata": {
    "collapsed": false
   },
   "outputs": [
    {
     "name": "stdout",
     "output_type": "stream",
     "text": [
      "Switching to API Credentials #12\n",
      "Switching to API Credentials #13\n",
      "Switching to API Credentials #14\n",
      "fetched 5000 followers so far.\n",
      "fetched 10000 followers so far.\n",
      "fetched 15000 followers so far.\n",
      "fetched 20000 followers so far.\n",
      "fetched 24745 followers so far.\n",
      "fetched 5000 followers so far.\n",
      "fetched 10000 followers so far.\n",
      "Switching to API Credentials #15\n",
      "Error trying to connect: Expected token_type to equal \"bearer\", but got None instead\n",
      "Switching to API Credentials #16\n",
      "fetched 15000 followers so far.\n",
      "fetched 20000 followers so far.\n",
      "fetched 25000 followers so far.\n",
      "fetched 30000 followers so far.\n",
      "fetched 35000 followers so far.\n",
      "fetched 35358 followers so far.\n"
     ]
    }
   ],
   "source": [
    "for name in cuentas:\n",
    "    u = TW.conn_.get_user(name)\n",
    "    fids = TW.traer_seguidores(screen_name=name)\n",
    "    g.add_edges_from([(fid, u.id) for fid in fids])"
   ]
  },
  {
   "cell_type": "code",
   "execution_count": 33,
   "metadata": {
    "collapsed": true
   },
   "outputs": [],
   "source": [
    "# saving to file"
   ]
  },
  {
   "cell_type": "code",
   "execution_count": null,
   "metadata": {
    "collapsed": false
   },
   "outputs": [],
   "source": [
    "graphpath = join(DATA_PATH, 'red1.graphml')\n",
    "nx.write_graphml(g, graphpath)"
   ]
  },
  {
   "cell_type": "code",
   "execution_count": 36,
   "metadata": {
    "collapsed": false
   },
   "outputs": [
    {
     "data": {
      "text/plain": [
       "60103"
      ]
     },
     "execution_count": 36,
     "metadata": {},
     "output_type": "execute_result"
    }
   ],
   "source": [
    "g.number_of_edges()"
   ]
  },
  {
   "cell_type": "code",
   "execution_count": 37,
   "metadata": {
    "collapsed": false
   },
   "outputs": [
    {
     "data": {
      "text/plain": [
       "57847"
      ]
     },
     "execution_count": 37,
     "metadata": {},
     "output_type": "execute_result"
    }
   ],
   "source": [
    "g.number_of_nodes()"
   ]
  }
 ],
 "metadata": {
  "kernelspec": {
   "display_name": "Python 2",
   "language": "python",
   "name": "python2"
  },
  "language_info": {
   "codemirror_mode": {
    "name": "ipython",
    "version": 2
   },
   "file_extension": ".py",
   "mimetype": "text/x-python",
   "name": "python",
   "nbconvert_exporter": "python",
   "pygments_lexer": "ipython2",
   "version": "2.7.11+"
  }
 },
 "nbformat": 4,
 "nbformat_minor": 0
}
