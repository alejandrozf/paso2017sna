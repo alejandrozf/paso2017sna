{
 "cells": [
  {
   "cell_type": "code",
   "execution_count": 31,
   "metadata": {
    "collapsed": false
   },
   "outputs": [],
   "source": [
    "import networkx as nx\n",
    "from twitter_api import API_HANDLER\n",
    "from tweepy import TweepError"
   ]
  },
  {
   "cell_type": "code",
   "execution_count": 4,
   "metadata": {
    "collapsed": false
   },
   "outputs": [
    {
     "name": "stdout",
     "output_type": "stream",
     "text": [
      "Continuing with API Credentials #3\n"
     ]
    }
   ],
   "source": [
    "tw = API_HANDLER.get_connection()"
   ]
  },
  {
   "cell_type": "code",
   "execution_count": 6,
   "metadata": {
    "collapsed": true
   },
   "outputs": [],
   "source": [
    "cuentas = [\n",
    "    'HectorBaldassi',\n",
    "    'NestorMoccia',\n",
    "    'PabloCarroOk'\n",
    "]"
   ]
  },
  {
   "cell_type": "code",
   "execution_count": 20,
   "metadata": {
    "collapsed": true
   },
   "outputs": [],
   "source": [
    "g = nx.DiGraph()"
   ]
  },
  {
   "cell_type": "code",
   "execution_count": 25,
   "metadata": {
    "collapsed": false
   },
   "outputs": [],
   "source": [
    "for name in cuentas:\n",
    "    u = tw.get_user(name)\n",
    "    fids = u.followers_ids()\n",
    "    g.add_edges_from([(fid, u.id) for fid in fids])"
   ]
  },
  {
   "cell_type": "code",
   "execution_count": 29,
   "metadata": {
    "collapsed": true
   },
   "outputs": [],
   "source": [
    "nx.write_graphml(g, 'red1.graphml')"
   ]
  },
  {
   "cell_type": "code",
   "execution_count": 26,
   "metadata": {
    "collapsed": true
   },
   "outputs": [],
   "source": [
    "g2 = g.copy()"
   ]
  },
  {
   "cell_type": "code",
   "execution_count": null,
   "metadata": {
    "collapsed": false
   },
   "outputs": [],
   "source": [
    "not_authorized = []\n",
    "for uid in g2.nodes():\n",
    "    try:\n",
    "        fids = tw.followers_ids(uid)\n",
    "    except TweepError:\n",
    "        not_authorized.append(uid)\n",
    "        continue\n",
    "    g2.add_edges_from([(fid, u.id) for fid in fids])"
   ]
  },
  {
   "cell_type": "code",
   "execution_count": 21,
   "metadata": {
    "collapsed": true
   },
   "outputs": [],
   "source": [
    "fids = tw.followers_ids('PabloCarroOk')"
   ]
  },
  {
   "cell_type": "code",
   "execution_count": 23,
   "metadata": {
    "collapsed": false
   },
   "outputs": [
    {
     "data": {
      "text/plain": [
       "222124298"
      ]
     },
     "execution_count": 23,
     "metadata": {},
     "output_type": "execute_result"
    }
   ],
   "source": [
    "u.id"
   ]
  },
  {
   "cell_type": "code",
   "execution_count": 7,
   "metadata": {
    "collapsed": true
   },
   "outputs": [],
   "source": [
    "u = tw.get_user('PabloCarroOk')"
   ]
  },
  {
   "cell_type": "code",
   "execution_count": 18,
   "metadata": {
    "collapsed": false
   },
   "outputs": [],
   "source": [
    "fids = u.followers_ids()"
   ]
  },
  {
   "cell_type": "code",
   "execution_count": 19,
   "metadata": {
    "collapsed": false
   },
   "outputs": [
    {
     "data": {
      "text/plain": [
       "1006"
      ]
     },
     "execution_count": 19,
     "metadata": {},
     "output_type": "execute_result"
    }
   ],
   "source": [
    "len(fids)"
   ]
  },
  {
   "cell_type": "code",
   "execution_count": 16,
   "metadata": {
    "collapsed": false
   },
   "outputs": [
    {
     "data": {
      "text/plain": [
       "User(follow_request_sent=False, has_extended_profile=False, profile_use_background_image=True, profile_sidebar_fill_color=u'DDEEF6', live_following=False, time_zone=None, id=3000560025, description=u'', _api=<tweepy.api.API object at 0x7f3899ac9690>, verified=False, blocked_by=False, profile_text_color=u'333333', muting=False, profile_image_url_https=u'https://abs.twimg.com/sticky/default_profile_images/default_profile_normal.png', _json={u'follow_request_sent': False, u'has_extended_profile': False, u'profile_use_background_image': True, u'live_following': False, u'default_profile_image': True, u'id': 3000560025, u'profile_background_image_url_https': u'https://abs.twimg.com/images/themes/theme1/bg.png', u'translator_type': u'none', u'verified': False, u'blocked_by': False, u'profile_text_color': u'333333', u'muting': False, u'profile_image_url_https': u'https://abs.twimg.com/sticky/default_profile_images/default_profile_normal.png', u'profile_sidebar_fill_color': u'DDEEF6', u'entities': {u'description': {u'urls': []}}, u'followers_count': 21, u'profile_sidebar_border_color': u'C0DEED', u'id_str': u'3000560025', u'profile_background_color': u'C0DEED', u'listed_count': 1, u'status': {u'contributors': None, u'truncated': False, u'text': u'#RompanseElTraste @Florenciarietto  tal como dijo S. Villarruel, no conoc\\xe9s el expte pero ya ped\\xeds el desafuero. Macrista no asumida!', u'is_quote_status': False, u'in_reply_to_status_id': None, u'id': 882402964291407874, u'favorite_count': 2, u'source': u'<a href=\"http://twitter.com/download/android\" rel=\"nofollow\">Twitter for Android</a>', u'retweeted': False, u'coordinates': None, u'entities': {u'symbols': [], u'user_mentions': [{u'id': 2705597335, u'indices': [18, 34], u'id_str': u'2705597335', u'screen_name': u'Florenciarietto', u'name': u'Flor Arietto'}], u'hashtags': [{u'indices': [0, 17], u'text': u'RompanseElTraste'}], u'urls': []}, u'in_reply_to_screen_name': None, u'in_reply_to_user_id': None, u'retweet_count': 1, u'id_str': u'882402964291407874', u'favorited': False, u'geo': None, u'in_reply_to_user_id_str': None, u'lang': u'es', u'created_at': u'Wed Jul 05 00:57:15 +0000 2017', u'in_reply_to_status_id_str': None, u'place': None}, u'is_translation_enabled': False, u'utc_offset': None, u'statuses_count': 1130, u'description': u'', u'friends_count': 18, u'location': u'', u'profile_link_color': u'1DA1F2', u'profile_image_url': u'http://abs.twimg.com/sticky/default_profile_images/default_profile_normal.png', u'following': False, u'geo_enabled': True, u'blocking': False, u'profile_background_image_url': u'http://abs.twimg.com/images/themes/theme1/bg.png', u'screen_name': u'usgaver', u'lang': u'es', u'profile_background_tile': False, u'favourites_count': 913, u'name': u'Gustavo Gabriel', u'notifications': False, u'url': None, u'created_at': u'Tue Jan 27 00:10:55 +0000 2015', u'contributors_enabled': False, u'time_zone': None, u'protected': False, u'default_profile': True, u'is_translator': False}, is_translator=False, geo_enabled=True, entities={u'description': {u'urls': []}}, followers_count=21, protected=False, id_str=u'3000560025', default_profile_image=True, listed_count=1, status=Status(contributors=None, truncated=False, text=u'#RompanseElTraste @Florenciarietto  tal como dijo S. Villarruel, no conoc\\xe9s el expte pero ya ped\\xeds el desafuero. Macrista no asumida!', is_quote_status=False, in_reply_to_status_id=None, id=882402964291407874, favorite_count=2, _api=<tweepy.api.API object at 0x7f3899ac9690>, source=u'Twitter for Android', _json={u'contributors': None, u'truncated': False, u'text': u'#RompanseElTraste @Florenciarietto  tal como dijo S. Villarruel, no conoc\\xe9s el expte pero ya ped\\xeds el desafuero. Macrista no asumida!', u'is_quote_status': False, u'in_reply_to_status_id': None, u'id': 882402964291407874, u'favorite_count': 2, u'source': u'<a href=\"http://twitter.com/download/android\" rel=\"nofollow\">Twitter for Android</a>', u'retweeted': False, u'coordinates': None, u'entities': {u'symbols': [], u'user_mentions': [{u'id': 2705597335, u'indices': [18, 34], u'id_str': u'2705597335', u'screen_name': u'Florenciarietto', u'name': u'Flor Arietto'}], u'hashtags': [{u'indices': [0, 17], u'text': u'RompanseElTraste'}], u'urls': []}, u'in_reply_to_screen_name': None, u'in_reply_to_user_id': None, u'retweet_count': 1, u'id_str': u'882402964291407874', u'favorited': False, u'geo': None, u'in_reply_to_user_id_str': None, u'lang': u'es', u'created_at': u'Wed Jul 05 00:57:15 +0000 2017', u'in_reply_to_status_id_str': None, u'place': None}, coordinates=None, entities={u'symbols': [], u'user_mentions': [{u'id': 2705597335, u'indices': [18, 34], u'id_str': u'2705597335', u'screen_name': u'Florenciarietto', u'name': u'Flor Arietto'}], u'hashtags': [{u'indices': [0, 17], u'text': u'RompanseElTraste'}], u'urls': []}, in_reply_to_screen_name=None, id_str=u'882402964291407874', retweet_count=1, in_reply_to_user_id=None, favorited=False, source_url=u'http://twitter.com/download/android', geo=None, in_reply_to_user_id_str=None, lang=u'es', created_at=datetime.datetime(2017, 7, 5, 0, 57, 15), in_reply_to_status_id_str=None, place=None, retweeted=False), lang=u'es', utc_offset=None, statuses_count=1130, profile_background_color=u'C0DEED', friends_count=18, profile_link_color=u'1DA1F2', profile_image_url=u'http://abs.twimg.com/sticky/default_profile_images/default_profile_normal.png', notifications=False, default_profile=True, profile_background_image_url_https=u'https://abs.twimg.com/images/themes/theme1/bg.png', blocking=False, profile_background_image_url=u'http://abs.twimg.com/images/themes/theme1/bg.png', name=u'Gustavo Gabriel', is_translation_enabled=False, profile_background_tile=False, favourites_count=913, screen_name=u'usgaver', url=None, created_at=datetime.datetime(2015, 1, 27, 0, 10, 55), contributors_enabled=False, location=u'', profile_sidebar_border_color=u'C0DEED', translator_type=u'none', following=False)"
      ]
     },
     "execution_count": 16,
     "metadata": {},
     "output_type": "execute_result"
    }
   ],
   "source": [
    "fs[0]"
   ]
  },
  {
   "cell_type": "code",
   "execution_count": null,
   "metadata": {
    "collapsed": true
   },
   "outputs": [],
   "source": []
  }
 ],
 "metadata": {
  "kernelspec": {
   "display_name": "Python 2",
   "language": "python",
   "name": "python2"
  },
  "language_info": {
   "codemirror_mode": {
    "name": "ipython",
    "version": 2
   },
   "file_extension": ".py",
   "mimetype": "text/x-python",
   "name": "python",
   "nbconvert_exporter": "python",
   "pygments_lexer": "ipython2",
   "version": "2.7.11+"
  }
 },
 "nbformat": 4,
 "nbformat_minor": 0
}
