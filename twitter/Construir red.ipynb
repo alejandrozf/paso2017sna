{
 "cells": [
  {
   "cell_type": "code",
   "execution_count": 64,
   "metadata": {
    "collapsed": false
   },
   "outputs": [
    {
     "name": "stdout",
     "output_type": "stream",
     "text": [
      "Switching to API Credentials #3\n"
     ]
    }
   ],
   "source": [
    "import networkx as nx\n",
    "from twitter_api import API_HANDLER as TW\n",
    "import json"
   ]
  },
  {
   "cell_type": "code",
   "execution_count": 2,
   "metadata": {
    "collapsed": true
   },
   "outputs": [],
   "source": [
    "cuentas = [\n",
    "    'HectorBaldassi',\n",
    "    'NestorMoccia',\n",
    "    'PabloCarroOk',\n",
    "    'MartinLlaryora',\n",
    "    'LilianaOlivero'\n",
    "]"
   ]
  },
  {
   "cell_type": "code",
   "execution_count": 11,
   "metadata": {
    "collapsed": true
   },
   "outputs": [],
   "source": [
    "g = nx.DiGraph()"
   ]
  },
  {
   "cell_type": "code",
   "execution_count": 13,
   "metadata": {
    "collapsed": false
   },
   "outputs": [],
   "source": [
    "for name in cuentas:\n",
    "    u = TW.conn.get_user(name)\n",
    "    fids = traer_seguidores(screen_name=name)\n",
    "    g.add_edges_from([(fid, u.id) for fid in fids])"
   ]
  },
  {
   "cell_type": "code",
   "execution_count": 14,
   "metadata": {
    "collapsed": true
   },
   "outputs": [],
   "source": [
    "nx.write_graphml(g, 'red1.graphml')"
   ]
  },
  {
   "cell_type": "markdown",
   "metadata": {},
   "source": [
    "# Extendemos a seguidores de seguidores"
   ]
  },
  {
   "cell_type": "code",
   "execution_count": 3,
   "metadata": {
    "collapsed": true
   },
   "outputs": [],
   "source": [
    "g = nx.read_graphml('red1.graphml')"
   ]
  },
  {
   "cell_type": "code",
   "execution_count": 4,
   "metadata": {
    "collapsed": true
   },
   "outputs": [],
   "source": [
    "# g2 = g.copy()\n",
    "# failed = {}"
   ]
  },
  {
   "cell_type": "code",
   "execution_count": 5,
   "metadata": {
    "collapsed": true
   },
   "outputs": [],
   "source": [
    "g2 = nx.read_graphml('red2.graphml')\n",
    "failed = json.load(open('failed.json'))"
   ]
  },
  {
   "cell_type": "code",
   "execution_count": 66,
   "metadata": {
    "collapsed": false
   },
   "outputs": [
    {
     "name": "stdout",
     "output_type": "stream",
     "text": [
      "Switching to API Credentials #4\n"
     ]
    },
    {
     "data": {
      "text/plain": [
       "<tweepy.api.API at 0x7f1aa94eb510>"
      ]
     },
     "execution_count": 66,
     "metadata": {},
     "output_type": "execute_result"
    }
   ],
   "source": [
    "TW.get_fresh_connection()"
   ]
  },
  {
   "cell_type": "code",
   "execution_count": null,
   "metadata": {
    "collapsed": false
   },
   "outputs": [
    {
     "name": "stdout",
     "output_type": "stream",
     "text": [
      "0.0 %\n",
      "(99335, 111953)\n",
      "Switching to API Credentials #5\n",
      "0.1 %\n",
      "(99335, 111953)\n",
      "0.2 %\n",
      "(99335, 111953)\n",
      "Rate limit reached\n",
      "Rate limit reached. Waiting 15 mins...\n",
      "fetched 40000 followers so far.\n"
     ]
    }
   ],
   "source": [
    "for i, uid in enumerate(g.nodes()): # red de primer grado\n",
    "    if g2.in_degree(uid):\n",
    "        continue # ya lo vimos\n",
    "    try:\n",
    "        fids = TW.traer_seguidores(user_id=uid)\n",
    "    except Exception as e:\n",
    "        failed[uid] = e.reason\n",
    "        continue\n",
    "                        \n",
    "    #  Graphml guarda las etiquetas como str\n",
    "    edges = [(str(fid), str(uid)) for fid in fids]\n",
    "    g2.add_edges_from(edges)\n",
    "        \n",
    "    if i % 10 == 0:\n",
    "        print \"%.1f %%\" % (i * 100.0 / g.number_of_nodes())\n",
    "        print (g2.number_of_nodes(), g2.number_of_edges())"
   ]
  },
  {
   "cell_type": "code",
   "execution_count": 44,
   "metadata": {
    "collapsed": false
   },
   "outputs": [
    {
     "data": {
      "text/plain": [
       "99335"
      ]
     },
     "execution_count": 44,
     "metadata": {},
     "output_type": "execute_result"
    }
   ],
   "source": [
    "g2.number_of_nodes()"
   ]
  },
  {
   "cell_type": "code",
   "execution_count": 8,
   "metadata": {
    "collapsed": false
   },
   "outputs": [],
   "source": [
    "with open('failed.json', 'w') as f:\n",
    "    json.dump(failed, f)"
   ]
  },
  {
   "cell_type": "code",
   "execution_count": 45,
   "metadata": {
    "collapsed": false
   },
   "outputs": [],
   "source": [
    "nx.write_graphml(g2, 'red2.graphml')"
   ]
  }
 ],
 "metadata": {
  "kernelspec": {
   "display_name": "Python 2",
   "language": "python",
   "name": "python2"
  },
  "language_info": {
   "codemirror_mode": {
    "name": "ipython",
    "version": 2
   },
   "file_extension": ".py",
   "mimetype": "text/x-python",
   "name": "python",
   "nbconvert_exporter": "python",
   "pygments_lexer": "ipython2",
   "version": "2.7.11+"
  }
 },
 "nbformat": 4,
 "nbformat_minor": 0
}
