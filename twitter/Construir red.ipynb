{
 "cells": [
  {
   "cell_type": "code",
   "execution_count": 1,
   "metadata": {
    "collapsed": false
   },
   "outputs": [
    {
     "name": "stdout",
     "output_type": "stream",
     "text": [
      "Switching to API Credentials #4\n"
     ]
    }
   ],
   "source": [
    "import networkx as nx\n",
    "from twitter_api import API_HANDLER as TW\n",
    "import json"
   ]
  },
  {
   "cell_type": "code",
   "execution_count": 1,
   "metadata": {
    "collapsed": true
   },
   "outputs": [],
   "source": [
    "cuentas = [\n",
    "    'HectorBaldassi',\n",
    "    'NestorMoccia',\n",
    "    'PabloCarroOk',\n",
    "    'MartinLlaryora',\n",
    "    'LilianaOlivero',\n",
    "    'Luciechevarria',\n",
    "    'ORTIZPELLEGRINI',\n",
    "    'AGarciaElorrio',\n",
    "    'rossiucr',\n",
    "    'beltranbeto1',\n",
    "    'SellaEnrique',\n",
    "]"
   ]
  },
  {
   "cell_type": "code",
   "execution_count": 11,
   "metadata": {
    "collapsed": true
   },
   "outputs": [],
   "source": [
    "g = nx.DiGraph()"
   ]
  },
  {
   "cell_type": "code",
   "execution_count": 13,
   "metadata": {
    "collapsed": false
   },
   "outputs": [],
   "source": [
    "for name in cuentas:\n",
    "    u = TW.conn.get_user(name)\n",
    "    fids = traer_seguidores(screen_name=name)\n",
    "    g.add_edges_from([(fid, u.id) for fid in fids])"
   ]
  },
  {
   "cell_type": "code",
   "execution_count": 14,
   "metadata": {
    "collapsed": true
   },
   "outputs": [],
   "source": [
    "nx.write_graphml(g, 'red1.graphml')"
   ]
  },
  {
   "cell_type": "markdown",
   "metadata": {},
   "source": [
    "# Extendemos a seguidores de seguidores"
   ]
  },
  {
   "cell_type": "code",
   "execution_count": 5,
   "metadata": {
    "collapsed": true
   },
   "outputs": [],
   "source": [
    "g = nx.read_graphml('red1.graphml')"
   ]
  },
  {
   "cell_type": "code",
   "execution_count": 4,
   "metadata": {
    "collapsed": true
   },
   "outputs": [],
   "source": [
    "# g2 = g.copy()\n",
    "# failed = {}"
   ]
  },
  {
   "cell_type": "code",
   "execution_count": 2,
   "metadata": {
    "collapsed": true
   },
   "outputs": [],
   "source": [
    "g2 = nx.read_graphml('red2.graphml')\n",
    "failed = json.load(open('failed.json'))"
   ]
  },
  {
   "cell_type": "code",
   "execution_count": 3,
   "metadata": {
    "collapsed": false
   },
   "outputs": [
    {
     "data": {
      "text/plain": [
       "(1610681, 2246468)"
      ]
     },
     "execution_count": 3,
     "metadata": {},
     "output_type": "execute_result"
    }
   ],
   "source": [
    "g2.number_of_nodes(), g2.number_of_edges()"
   ]
  },
  {
   "cell_type": "code",
   "execution_count": null,
   "metadata": {
    "collapsed": false
   },
   "outputs": [
    {
     "name": "stdout",
     "output_type": "stream",
     "text": [
      "Switching to API Credentials #5\n",
      "Switching to API Credentials #6\n",
      "Switching to API Credentials #7\n",
      "Switching to API Credentials #8\n",
      "Switching to API Credentials #0\n",
      "Switching to API Credentials #1\n"
     ]
    }
   ],
   "source": [
    "for i, uid in enumerate(g.nodes()): # red de primer grado\n",
    "    if g2.in_degree(uid):\n",
    "        continue # ya lo vimos\n",
    "    try:\n",
    "        fids = TW.traer_seguidores(user_id=uid)\n",
    "    except Exception as e:\n",
    "        failed[uid] = e.reason\n",
    "        continue\n",
    "                        \n",
    "    #  Graphml guarda las etiquetas como str\n",
    "    edges = [(str(fid), str(uid)) for fid in fids]\n",
    "    g2.add_edges_from(edges)\n",
    "        \n",
    "    if i % 100 == 0:\n",
    "        print \"%.1f %%\" % (i * 100.0 / g.number_of_nodes())\n",
    "        print (g2.number_of_nodes(), g2.number_of_edges())"
   ]
  },
  {
   "cell_type": "code",
   "execution_count": 29,
   "metadata": {
    "collapsed": false
   },
   "outputs": [
    {
     "data": {
      "text/plain": [
       "(1610681, 2246468)"
      ]
     },
     "execution_count": 29,
     "metadata": {},
     "output_type": "execute_result"
    }
   ],
   "source": [
    "g2.number_of_nodes(), g2.number_of_edges()"
   ]
  },
  {
   "cell_type": "code",
   "execution_count": null,
   "metadata": {
    "collapsed": false
   },
   "outputs": [],
   "source": [
    "with open('failed.json', 'w') as f:\n",
    "    json.dump(failed, f)"
   ]
  },
  {
   "cell_type": "code",
   "execution_count": null,
   "metadata": {
    "collapsed": false
   },
   "outputs": [],
   "source": [
    "nx.write_graphml(g2, 'red2.graphml')"
   ]
  }
 ],
 "metadata": {
  "kernelspec": {
   "display_name": "Python 2",
   "language": "python",
   "name": "python2"
  },
  "language_info": {
   "codemirror_mode": {
    "name": "ipython",
    "version": 2
   },
   "file_extension": ".py",
   "mimetype": "text/x-python",
   "name": "python",
   "nbconvert_exporter": "python",
   "pygments_lexer": "ipython2",
   "version": "2.7.11+"
  }
 },
 "nbformat": 4,
 "nbformat_minor": 0
}
