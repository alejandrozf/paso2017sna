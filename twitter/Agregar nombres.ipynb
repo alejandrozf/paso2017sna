{
 "cells": [
  {
   "cell_type": "code",
   "execution_count": 3,
   "metadata": {
    "collapsed": false
   },
   "outputs": [],
   "source": [
    "import networkx as nx\n",
    "from twitter_api import API_HANDLER as TW\n",
    "from tweepy import TweepError\n",
    "import tweepy"
   ]
  },
  {
   "cell_type": "code",
   "execution_count": 4,
   "metadata": {
    "collapsed": true
   },
   "outputs": [],
   "source": [
    "g = nx.read_graphml('red1_5k.graphml')"
   ]
  },
  {
   "cell_type": "code",
   "execution_count": 5,
   "metadata": {
    "collapsed": false
   },
   "outputs": [
    {
     "data": {
      "text/plain": [
       "5008"
      ]
     },
     "execution_count": 5,
     "metadata": {},
     "output_type": "execute_result"
    }
   ],
   "source": [
    "g.number_of_nodes()"
   ]
  },
  {
   "cell_type": "code",
   "execution_count": 7,
   "metadata": {
    "collapsed": false
   },
   "outputs": [
    {
     "name": "stdout",
     "output_type": "stream",
     "text": [
      "Switching to API Credentials #3\n",
      "Switching to API Credentials #4\n",
      "Switching to API Credentials #5\n",
      "Switching to API Credentials #6\n"
     ]
    }
   ],
   "source": [
    "users = []\n",
    "chunk_size = 100\n",
    "for i in range(0, len(g.nodes()), chunk_size):\n",
    "    users += TW.conn().lookup_users(g.nodes()[i:i+chunk_size])"
   ]
  },
  {
   "cell_type": "code",
   "execution_count": 8,
   "metadata": {
    "collapsed": false
   },
   "outputs": [
    {
     "data": {
      "text/plain": [
       "4993"
      ]
     },
     "execution_count": 8,
     "metadata": {},
     "output_type": "execute_result"
    }
   ],
   "source": [
    "len(users)"
   ]
  },
  {
   "cell_type": "code",
   "execution_count": 10,
   "metadata": {
    "collapsed": true
   },
   "outputs": [],
   "source": [
    "u = users[0]"
   ]
  },
  {
   "cell_type": "code",
   "execution_count": 11,
   "metadata": {
    "collapsed": false
   },
   "outputs": [
    {
     "data": {
      "text/plain": [
       "{u'contributors_enabled': False,\n",
       " u'created_at': u'Thu Sep 30 02:08:16 +0000 2010',\n",
       " u'default_profile': True,\n",
       " u'default_profile_image': False,\n",
       " u'description': u'Periodista de Radio Capilla de Rodr\\xedguez, Lic. en Comunicaci\\xf3n Social y Locutor Nacional',\n",
       " u'entities': {u'description': {u'urls': []}},\n",
       " u'favourites_count': 1455,\n",
       " u'follow_request_sent': False,\n",
       " u'followers_count': 613,\n",
       " u'following': False,\n",
       " u'friends_count': 620,\n",
       " u'geo_enabled': False,\n",
       " u'has_extended_profile': False,\n",
       " u'id': 196857939,\n",
       " u'id_str': u'196857939',\n",
       " u'is_translation_enabled': False,\n",
       " u'is_translator': False,\n",
       " u'lang': u'es',\n",
       " u'listed_count': 12,\n",
       " u'location': u'',\n",
       " u'name': u'Juan Manuel Ferreyra',\n",
       " u'notifications': False,\n",
       " u'profile_background_color': u'C0DEED',\n",
       " u'profile_background_image_url': u'http://abs.twimg.com/images/themes/theme1/bg.png',\n",
       " u'profile_background_image_url_https': u'https://abs.twimg.com/images/themes/theme1/bg.png',\n",
       " u'profile_background_tile': False,\n",
       " u'profile_banner_url': u'https://pbs.twimg.com/profile_banners/196857939/1415151964',\n",
       " u'profile_image_url': u'http://pbs.twimg.com/profile_images/1563390944/foto_tipo_carnet_normal.jpg',\n",
       " u'profile_image_url_https': u'https://pbs.twimg.com/profile_images/1563390944/foto_tipo_carnet_normal.jpg',\n",
       " u'profile_link_color': u'1DA1F2',\n",
       " u'profile_sidebar_border_color': u'C0DEED',\n",
       " u'profile_sidebar_fill_color': u'DDEEF6',\n",
       " u'profile_text_color': u'333333',\n",
       " u'profile_use_background_image': True,\n",
       " u'protected': False,\n",
       " u'screen_name': u'ochicho',\n",
       " u'status': {u'contributors': None,\n",
       "  u'coordinates': None,\n",
       "  u'created_at': u'Tue Jul 11 23:17:22 +0000 2017',\n",
       "  u'entities': {u'hashtags': [{u'indices': [0, 7], u'text': u'Enduro'}],\n",
       "   u'media': [{u'display_url': u'pic.twitter.com/2O1ZpP8P3U',\n",
       "     u'expanded_url': u'https://twitter.com/ochicho/status/884914542211461121/photo/1',\n",
       "     u'id': 884914315949723650,\n",
       "     u'id_str': u'884914315949723650',\n",
       "     u'indices': [90, 113],\n",
       "     u'media_url': u'http://pbs.twimg.com/media/DEfY4cLXUAI1aJ4.jpg',\n",
       "     u'media_url_https': u'https://pbs.twimg.com/media/DEfY4cLXUAI1aJ4.jpg',\n",
       "     u'sizes': {u'large': {u'h': 768, u'resize': u'fit', u'w': 1280},\n",
       "      u'medium': {u'h': 720, u'resize': u'fit', u'w': 1200},\n",
       "      u'small': {u'h': 408, u'resize': u'fit', u'w': 680},\n",
       "      u'thumb': {u'h': 150, u'resize': u'crop', u'w': 150}},\n",
       "     u'type': u'photo',\n",
       "     u'url': u'https://t.co/2O1ZpP8P3U'}],\n",
       "   u'symbols': [],\n",
       "   u'urls': [{u'display_url': u'radiocapilla.com/buena-cosecha-\\u2026',\n",
       "     u'expanded_url': u'http://radiocapilla.com/buena-cosecha-de-pilotos-de-villa-ascasubi-en-el-enduro-que-paso-por-san-luis/',\n",
       "     u'indices': [66, 89],\n",
       "     u'url': u'https://t.co/o5KTszhw7N'}],\n",
       "   u'user_mentions': []},\n",
       "  u'extended_entities': {u'media': [{u'display_url': u'pic.twitter.com/2O1ZpP8P3U',\n",
       "     u'expanded_url': u'https://twitter.com/ochicho/status/884914542211461121/photo/1',\n",
       "     u'id': 884914315949723650,\n",
       "     u'id_str': u'884914315949723650',\n",
       "     u'indices': [90, 113],\n",
       "     u'media_url': u'http://pbs.twimg.com/media/DEfY4cLXUAI1aJ4.jpg',\n",
       "     u'media_url_https': u'https://pbs.twimg.com/media/DEfY4cLXUAI1aJ4.jpg',\n",
       "     u'sizes': {u'large': {u'h': 768, u'resize': u'fit', u'w': 1280},\n",
       "      u'medium': {u'h': 720, u'resize': u'fit', u'w': 1200},\n",
       "      u'small': {u'h': 408, u'resize': u'fit', u'w': 680},\n",
       "      u'thumb': {u'h': 150, u'resize': u'crop', u'w': 150}},\n",
       "     u'type': u'photo',\n",
       "     u'url': u'https://t.co/2O1ZpP8P3U'},\n",
       "    {u'display_url': u'pic.twitter.com/2O1ZpP8P3U',\n",
       "     u'expanded_url': u'https://twitter.com/ochicho/status/884914542211461121/photo/1',\n",
       "     u'id': 884914315949723648,\n",
       "     u'id_str': u'884914315949723648',\n",
       "     u'indices': [90, 113],\n",
       "     u'media_url': u'http://pbs.twimg.com/media/DEfY4cLXUAADdGY.jpg',\n",
       "     u'media_url_https': u'https://pbs.twimg.com/media/DEfY4cLXUAADdGY.jpg',\n",
       "     u'sizes': {u'large': {u'h': 768, u'resize': u'fit', u'w': 1280},\n",
       "      u'medium': {u'h': 720, u'resize': u'fit', u'w': 1200},\n",
       "      u'small': {u'h': 408, u'resize': u'fit', u'w': 680},\n",
       "      u'thumb': {u'h': 150, u'resize': u'crop', u'w': 150}},\n",
       "     u'type': u'photo',\n",
       "     u'url': u'https://t.co/2O1ZpP8P3U'},\n",
       "    {u'display_url': u'pic.twitter.com/2O1ZpP8P3U',\n",
       "     u'expanded_url': u'https://twitter.com/ochicho/status/884914542211461121/photo/1',\n",
       "     u'id': 884914315953934338,\n",
       "     u'id_str': u'884914315953934338',\n",
       "     u'indices': [90, 113],\n",
       "     u'media_url': u'http://pbs.twimg.com/media/DEfY4cMXkAIXWWx.jpg',\n",
       "     u'media_url_https': u'https://pbs.twimg.com/media/DEfY4cMXkAIXWWx.jpg',\n",
       "     u'sizes': {u'large': {u'h': 768, u'resize': u'fit', u'w': 1280},\n",
       "      u'medium': {u'h': 720, u'resize': u'fit', u'w': 1200},\n",
       "      u'small': {u'h': 408, u'resize': u'fit', u'w': 680},\n",
       "      u'thumb': {u'h': 150, u'resize': u'crop', u'w': 150}},\n",
       "     u'type': u'photo',\n",
       "     u'url': u'https://t.co/2O1ZpP8P3U'}]},\n",
       "  u'favorite_count': 0,\n",
       "  u'favorited': False,\n",
       "  u'geo': None,\n",
       "  u'id': 884914542211461121,\n",
       "  u'id_str': u'884914542211461121',\n",
       "  u'in_reply_to_screen_name': None,\n",
       "  u'in_reply_to_status_id': None,\n",
       "  u'in_reply_to_status_id_str': None,\n",
       "  u'in_reply_to_user_id': None,\n",
       "  u'in_reply_to_user_id_str': None,\n",
       "  u'is_quote_status': False,\n",
       "  u'lang': u'es',\n",
       "  u'place': None,\n",
       "  u'possibly_sensitive': False,\n",
       "  u'retweet_count': 0,\n",
       "  u'retweeted': False,\n",
       "  u'source': u'<a href=\"https://about.twitter.com/products/tweetdeck\" rel=\"nofollow\">TweetDeck</a>',\n",
       "  u'text': u'#Enduro Generaci\\xf3n 2002: grandes cosechas \"palomeras\" en San Luis https://t.co/o5KTszhw7N https://t.co/2O1ZpP8P3U',\n",
       "  u'truncated': False},\n",
       " u'statuses_count': 10123,\n",
       " u'time_zone': u'Atlantic Time (Canada)',\n",
       " u'translator_type': u'none',\n",
       " u'url': None,\n",
       " u'utc_offset': -10800,\n",
       " u'verified': False}"
      ]
     },
     "execution_count": 11,
     "metadata": {},
     "output_type": "execute_result"
    }
   ],
   "source": [
    "u._json"
   ]
  },
  {
   "cell_type": "code",
   "execution_count": 12,
   "metadata": {
    "collapsed": false
   },
   "outputs": [],
   "source": [
    "import json\n",
    "with open('users_5k.json', 'w') as f:\n",
    "    json.dump([u._json for u in users], f)"
   ]
  },
  {
   "cell_type": "code",
   "execution_count": 13,
   "metadata": {
    "collapsed": true
   },
   "outputs": [],
   "source": [
    "with open('unames_5k.csv', 'w') as f:\n",
    "    f.write('id,name,followers\\n')\n",
    "    for u in users:\n",
    "        f.write('%d,%s,%d\\n' % (u.id, u.screen_name, u.followers_count))"
   ]
  }
 ],
 "metadata": {
  "kernelspec": {
   "display_name": "Python 2",
   "language": "python",
   "name": "python2"
  },
  "language_info": {
   "codemirror_mode": {
    "name": "ipython",
    "version": 2
   },
   "file_extension": ".py",
   "mimetype": "text/x-python",
   "name": "python",
   "nbconvert_exporter": "python",
   "pygments_lexer": "ipython2",
   "version": "2.7.11+"
  }
 },
 "nbformat": 4,
 "nbformat_minor": 0
}
