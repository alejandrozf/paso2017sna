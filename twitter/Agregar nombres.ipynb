{
 "cells": [
  {
   "cell_type": "code",
   "execution_count": 1,
   "metadata": {
    "collapsed": false
   },
   "outputs": [
    {
     "name": "stdout",
     "output_type": "stream",
     "text": [
      "Switching to API Credentials #1\n"
     ]
    }
   ],
   "source": [
    "import networkx as nx\n",
    "from twitter_api import API_HANDLER\n",
    "from tweepy import TweepError\n",
    "import tweepy"
   ]
  },
  {
   "cell_type": "code",
   "execution_count": 2,
   "metadata": {
    "collapsed": false
   },
   "outputs": [
    {
     "name": "stdout",
     "output_type": "stream",
     "text": [
      "Continuing with API Credentials #1\n"
     ]
    }
   ],
   "source": [
    "tw = API_HANDLER.get_connection()"
   ]
  },
  {
   "cell_type": "code",
   "execution_count": 3,
   "metadata": {
    "collapsed": true
   },
   "outputs": [],
   "source": [
    "g = nx.read_graphml('red1.graphml')"
   ]
  },
  {
   "cell_type": "code",
   "execution_count": 4,
   "metadata": {
    "collapsed": false
   },
   "outputs": [
    {
     "data": {
      "text/plain": [
       "7136"
      ]
     },
     "execution_count": 4,
     "metadata": {},
     "output_type": "execute_result"
    }
   ],
   "source": [
    "g.number_of_nodes()"
   ]
  },
  {
   "cell_type": "code",
   "execution_count": 12,
   "metadata": {
    "collapsed": false
   },
   "outputs": [
    {
     "name": "stdout",
     "output_type": "stream",
     "text": [
      "Continuing with API Credentials #1\n",
      "Continuing with API Credentials #1\n",
      "Continuing with API Credentials #1\n",
      "Continuing with API Credentials #1\n",
      "Continuing with API Credentials #1\n",
      "Continuing with API Credentials #1\n",
      "Continuing with API Credentials #1\n",
      "Continuing with API Credentials #1\n",
      "Continuing with API Credentials #1\n",
      "Switching to API Credentials #2\n",
      "Continuing with API Credentials #2\n",
      "Continuing with API Credentials #2\n",
      "Continuing with API Credentials #2\n",
      "Continuing with API Credentials #2\n",
      "Continuing with API Credentials #2\n",
      "Continuing with API Credentials #2\n",
      "Continuing with API Credentials #2\n",
      "Continuing with API Credentials #2\n",
      "Continuing with API Credentials #2\n",
      "Continuing with API Credentials #2\n",
      "Switching to API Credentials #3\n",
      "Continuing with API Credentials #3\n",
      "Continuing with API Credentials #3\n",
      "Continuing with API Credentials #3\n",
      "Continuing with API Credentials #3\n",
      "Continuing with API Credentials #3\n",
      "Continuing with API Credentials #3\n",
      "Continuing with API Credentials #3\n",
      "Continuing with API Credentials #3\n",
      "Continuing with API Credentials #3\n",
      "Continuing with API Credentials #3\n",
      "Switching to API Credentials #4\n",
      "Continuing with API Credentials #4\n",
      "Continuing with API Credentials #4\n",
      "Continuing with API Credentials #4\n",
      "Continuing with API Credentials #4\n",
      "Continuing with API Credentials #4\n",
      "Continuing with API Credentials #4\n",
      "Continuing with API Credentials #4\n",
      "Continuing with API Credentials #4\n",
      "Continuing with API Credentials #4\n",
      "Continuing with API Credentials #4\n",
      "Switching to API Credentials #5\n",
      "Continuing with API Credentials #5\n",
      "Continuing with API Credentials #5\n",
      "Continuing with API Credentials #5\n",
      "Continuing with API Credentials #5\n",
      "Continuing with API Credentials #5\n",
      "Continuing with API Credentials #5\n",
      "Continuing with API Credentials #5\n",
      "Continuing with API Credentials #5\n",
      "Continuing with API Credentials #5\n",
      "Continuing with API Credentials #5\n",
      "Switching to API Credentials #6\n",
      "Continuing with API Credentials #6\n",
      "Continuing with API Credentials #6\n",
      "Continuing with API Credentials #6\n",
      "Continuing with API Credentials #6\n",
      "Continuing with API Credentials #6\n",
      "Continuing with API Credentials #6\n",
      "Continuing with API Credentials #6\n",
      "Continuing with API Credentials #6\n",
      "Continuing with API Credentials #6\n",
      "Continuing with API Credentials #6\n",
      "Switching to API Credentials #7\n",
      "Continuing with API Credentials #7\n",
      "Continuing with API Credentials #7\n",
      "Continuing with API Credentials #7\n",
      "Continuing with API Credentials #7\n",
      "Continuing with API Credentials #7\n",
      "Continuing with API Credentials #7\n",
      "Continuing with API Credentials #7\n"
     ]
    }
   ],
   "source": [
    "users = []\n",
    "chunk_size = 100\n",
    "for i in range(0, len(g.nodes()), chunk_size):\n",
    "    tw = API_HANDLER.get_connection()\n",
    "    users += tw.lookup_users(g.nodes()[i:i+chunk_size])"
   ]
  },
  {
   "cell_type": "code",
   "execution_count": 13,
   "metadata": {
    "collapsed": false
   },
   "outputs": [
    {
     "data": {
      "text/plain": [
       "7135"
      ]
     },
     "execution_count": 13,
     "metadata": {},
     "output_type": "execute_result"
    }
   ],
   "source": [
    "len(users)"
   ]
  },
  {
   "cell_type": "code",
   "execution_count": 14,
   "metadata": {
    "collapsed": true
   },
   "outputs": [],
   "source": [
    "u = users[0]"
   ]
  },
  {
   "cell_type": "code",
   "execution_count": 17,
   "metadata": {
    "collapsed": false
   },
   "outputs": [
    {
     "data": {
      "text/plain": [
       "{u'contributors_enabled': False,\n",
       " u'created_at': u'Wed Jul 15 17:40:05 +0000 2015',\n",
       " u'default_profile': True,\n",
       " u'default_profile_image': False,\n",
       " u'description': u'DO\\u011eDUM DA \\u0130NSANDIM \\u015e\\u0130MD\\u0130Y SE B\\u0130R \\xd6L\\xdcML\\xdcY\\xdcM HEP S\\u0130 BU',\n",
       " u'entities': {u'description': {u'urls': []}},\n",
       " u'favourites_count': 5,\n",
       " u'follow_request_sent': False,\n",
       " u'followers_count': 520,\n",
       " u'following': False,\n",
       " u'friends_count': 5003,\n",
       " u'geo_enabled': False,\n",
       " u'has_extended_profile': False,\n",
       " u'id': 3377602703,\n",
       " u'id_str': u'3377602703',\n",
       " u'is_translation_enabled': False,\n",
       " u'is_translator': False,\n",
       " u'lang': u'tr',\n",
       " u'listed_count': 2,\n",
       " u'location': u'',\n",
       " u'name': u'insanca ya\\u015fam',\n",
       " u'notifications': False,\n",
       " u'profile_background_color': u'C0DEED',\n",
       " u'profile_background_image_url': u'http://abs.twimg.com/images/themes/theme1/bg.png',\n",
       " u'profile_background_image_url_https': u'https://abs.twimg.com/images/themes/theme1/bg.png',\n",
       " u'profile_background_tile': False,\n",
       " u'profile_banner_url': u'https://pbs.twimg.com/profile_banners/3377602703/1470502622',\n",
       " u'profile_image_url': u'http://pbs.twimg.com/profile_images/761969348797947906/8mMowGsQ_normal.jpg',\n",
       " u'profile_image_url_https': u'https://pbs.twimg.com/profile_images/761969348797947906/8mMowGsQ_normal.jpg',\n",
       " u'profile_link_color': u'1DA1F2',\n",
       " u'profile_sidebar_border_color': u'C0DEED',\n",
       " u'profile_sidebar_fill_color': u'DDEEF6',\n",
       " u'profile_text_color': u'333333',\n",
       " u'profile_use_background_image': True,\n",
       " u'protected': True,\n",
       " u'screen_name': u'OkumakYasam',\n",
       " u'statuses_count': 14440,\n",
       " u'time_zone': None,\n",
       " u'translator_type': u'none',\n",
       " u'url': None,\n",
       " u'utc_offset': None,\n",
       " u'verified': False}"
      ]
     },
     "execution_count": 17,
     "metadata": {},
     "output_type": "execute_result"
    }
   ],
   "source": [
    "u._json"
   ]
  },
  {
   "cell_type": "code",
   "execution_count": 19,
   "metadata": {
    "collapsed": false
   },
   "outputs": [],
   "source": [
    "import json\n",
    "with open('users.json', 'w') as f:\n",
    "    json.dump([u._json for u in users], f)"
   ]
  },
  {
   "cell_type": "code",
   "execution_count": 20,
   "metadata": {
    "collapsed": true
   },
   "outputs": [],
   "source": [
    "with open('unames.csv', 'w') as f:\n",
    "    f.write('id,name\\n')\n",
    "    for u in users:\n",
    "        f.write('%d,%s\\n' % (u.id, u.screen_name))"
   ]
  },
  {
   "cell_type": "code",
   "execution_count": null,
   "metadata": {
    "collapsed": true
   },
   "outputs": [],
   "source": []
  }
 ],
 "metadata": {
  "kernelspec": {
   "display_name": "Python 2",
   "language": "python",
   "name": "python2"
  },
  "language_info": {
   "codemirror_mode": {
    "name": "ipython",
    "version": 2
   },
   "file_extension": ".py",
   "mimetype": "text/x-python",
   "name": "python",
   "nbconvert_exporter": "python",
   "pygments_lexer": "ipython2",
   "version": "2.7.11+"
  }
 },
 "nbformat": 4,
 "nbformat_minor": 0
}
